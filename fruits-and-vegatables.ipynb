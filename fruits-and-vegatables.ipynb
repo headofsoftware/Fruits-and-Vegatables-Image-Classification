{
 "cells": [
  {
   "cell_type": "code",
   "execution_count": 1,
   "id": "501bd19c",
   "metadata": {
    "_cell_guid": "b1076dfc-b9ad-4769-8c92-a6c4dae69d19",
    "_uuid": "8f2839f25d086af736a60e9eeb907d3b93b6e0e5",
    "execution": {
     "iopub.execute_input": "2022-06-01T11:11:55.477087Z",
     "iopub.status.busy": "2022-06-01T11:11:55.476586Z",
     "iopub.status.idle": "2022-06-01T11:12:01.695556Z",
     "shell.execute_reply": "2022-06-01T11:12:01.694745Z"
    },
    "papermill": {
     "duration": 6.230862,
     "end_time": "2022-06-01T11:12:01.697696",
     "exception": false,
     "start_time": "2022-06-01T11:11:55.466834",
     "status": "completed"
    },
    "tags": []
   },
   "outputs": [],
   "source": [
    "import os\n",
    "import cv2\n",
    "import glob as gb\n",
    "import matplotlib.pyplot as plt\n",
    "import seaborn as sns\n",
    "import tensorflow as tf\n",
    "from tensorflow import keras\n",
    "from tensorflow.keras import layers\n",
    "from tensorflow.keras.preprocessing.image import ImageDataGenerator\n",
    "\n",
    "import numpy as np\n",
    "import tensorflow.keras\n",
    "import tensorflow as tf\n",
    "import matplotlib.pyplot as plt\n",
    "from tensorflow.keras.layers import Conv2D, Dense, Flatten, MaxPool2D,Dropout\n",
    "from tensorflow.keras.models import Sequential, load_model\n",
    "from tensorflow.keras.optimizers import Adam\n",
    "from tensorflow.keras.preprocessing import image\n",
    "from tensorflow.keras.preprocessing.image import ImageDataGenerator\n",
    "from tensorflow.keras.callbacks import ModelCheckpoint, EarlyStopping\n",
    "# from tensorflow.keras.backend.tensorflow_backend import set_session\n",
    "from tensorflow.python.keras.backend import set_session "
   ]
  },
  {
   "cell_type": "markdown",
   "id": "96e47fd7",
   "metadata": {
    "papermill": {
     "duration": 0.006746,
     "end_time": "2022-06-01T11:12:01.711924",
     "exception": false,
     "start_time": "2022-06-01T11:12:01.705178",
     "status": "completed"
    },
    "tags": []
   },
   "source": [
    "# PREPROCESSING"
   ]
  },
  {
   "cell_type": "code",
   "execution_count": 2,
   "id": "7eb407bf",
   "metadata": {
    "execution": {
     "iopub.execute_input": "2022-06-01T11:12:01.727650Z",
     "iopub.status.busy": "2022-06-01T11:12:01.726842Z",
     "iopub.status.idle": "2022-06-01T11:12:02.775482Z",
     "shell.execute_reply": "2022-06-01T11:12:02.774636Z"
    },
    "papermill": {
     "duration": 1.05904,
     "end_time": "2022-06-01T11:12:02.777985",
     "exception": false,
     "start_time": "2022-06-01T11:12:01.718945",
     "status": "completed"
    },
    "tags": []
   },
   "outputs": [
    {
     "name": "stdout",
     "output_type": "stream",
     "text": [
      "Found 3115 images belonging to 36 classes.\n",
      "Found 351 images belonging to 36 classes.\n",
      "Found 359 images belonging to 36 classes.\n"
     ]
    }
   ],
   "source": [
    "IMGSIZE= 100\n",
    "trdata = ImageDataGenerator(rescale=1/255)#rescale=1/255\n",
    "traindata = trdata.flow_from_directory(shuffle=True,batch_size=100,directory=\"../input/fruit-and-vegetable-image-recognition/train\",target_size=(IMGSIZE,IMGSIZE))\n",
    "vldata = ImageDataGenerator(rescale=1/255)#rescale=1/255\n",
    "validdata = vldata.flow_from_directory(batch_size=32,directory=\"../input/fruit-and-vegetable-image-recognition/validation\", target_size=(IMGSIZE,IMGSIZE))\n",
    "tsdata = ImageDataGenerator(rescale=1/255)#rescale=1/255\n",
    "testdata = tsdata.flow_from_directory(batch_size=32,directory=\"../input/fruit-and-vegetable-image-recognition/test\", target_size=(IMGSIZE,IMGSIZE))"
   ]
  },
  {
   "cell_type": "markdown",
   "id": "8f4094cf",
   "metadata": {
    "papermill": {
     "duration": 0.006855,
     "end_time": "2022-06-01T11:12:02.792919",
     "exception": false,
     "start_time": "2022-06-01T11:12:02.786064",
     "status": "completed"
    },
    "tags": []
   },
   "source": [
    "# VGG16"
   ]
  },
  {
   "cell_type": "code",
   "execution_count": 3,
   "id": "03717bba",
   "metadata": {
    "execution": {
     "iopub.execute_input": "2022-06-01T11:12:02.808904Z",
     "iopub.status.busy": "2022-06-01T11:12:02.808145Z",
     "iopub.status.idle": "2022-06-01T11:12:05.615303Z",
     "shell.execute_reply": "2022-06-01T11:12:05.614288Z"
    },
    "papermill": {
     "duration": 2.818036,
     "end_time": "2022-06-01T11:12:05.618013",
     "exception": false,
     "start_time": "2022-06-01T11:12:02.799977",
     "status": "completed"
    },
    "tags": []
   },
   "outputs": [
    {
     "name": "stderr",
     "output_type": "stream",
     "text": [
      "2022-06-01 11:12:02.901305: I tensorflow/stream_executor/cuda/cuda_gpu_executor.cc:937] successful NUMA node read from SysFS had negative value (-1), but there must be at least one NUMA node, so returning NUMA node zero\n",
      "2022-06-01 11:12:03.017009: I tensorflow/stream_executor/cuda/cuda_gpu_executor.cc:937] successful NUMA node read from SysFS had negative value (-1), but there must be at least one NUMA node, so returning NUMA node zero\n",
      "2022-06-01 11:12:03.017824: I tensorflow/stream_executor/cuda/cuda_gpu_executor.cc:937] successful NUMA node read from SysFS had negative value (-1), but there must be at least one NUMA node, so returning NUMA node zero\n",
      "2022-06-01 11:12:03.019281: I tensorflow/core/platform/cpu_feature_guard.cc:142] This TensorFlow binary is optimized with oneAPI Deep Neural Network Library (oneDNN) to use the following CPU instructions in performance-critical operations:  AVX2 AVX512F FMA\n",
      "To enable them in other operations, rebuild TensorFlow with the appropriate compiler flags.\n",
      "2022-06-01 11:12:03.019583: I tensorflow/stream_executor/cuda/cuda_gpu_executor.cc:937] successful NUMA node read from SysFS had negative value (-1), but there must be at least one NUMA node, so returning NUMA node zero\n",
      "2022-06-01 11:12:03.020296: I tensorflow/stream_executor/cuda/cuda_gpu_executor.cc:937] successful NUMA node read from SysFS had negative value (-1), but there must be at least one NUMA node, so returning NUMA node zero\n",
      "2022-06-01 11:12:03.020957: I tensorflow/stream_executor/cuda/cuda_gpu_executor.cc:937] successful NUMA node read from SysFS had negative value (-1), but there must be at least one NUMA node, so returning NUMA node zero\n",
      "2022-06-01 11:12:05.150193: I tensorflow/stream_executor/cuda/cuda_gpu_executor.cc:937] successful NUMA node read from SysFS had negative value (-1), but there must be at least one NUMA node, so returning NUMA node zero\n",
      "2022-06-01 11:12:05.151095: I tensorflow/stream_executor/cuda/cuda_gpu_executor.cc:937] successful NUMA node read from SysFS had negative value (-1), but there must be at least one NUMA node, so returning NUMA node zero\n",
      "2022-06-01 11:12:05.151923: I tensorflow/stream_executor/cuda/cuda_gpu_executor.cc:937] successful NUMA node read from SysFS had negative value (-1), but there must be at least one NUMA node, so returning NUMA node zero\n",
      "2022-06-01 11:12:05.152664: I tensorflow/core/common_runtime/gpu/gpu_device.cc:1510] Created device /job:localhost/replica:0/task:0/device:GPU:0 with 15403 MB memory:  -> device: 0, name: Tesla P100-PCIE-16GB, pci bus id: 0000:00:04.0, compute capability: 6.0\n"
     ]
    }
   ],
   "source": [
    "# Generate the model\n",
    "model = Sequential()\n",
    "# Layer 1: Convolutional\n",
    "model.add(Conv2D(input_shape=(IMGSIZE, IMGSIZE ,3), filters=64, kernel_size=(3, 3),\n",
    "                 padding='same', activation='relu'))\n",
    "# Layer 2: Convolutional\n",
    "model.add(Conv2D(filters=64, kernel_size=(3,3), padding='same', activation='relu'))\n",
    "# Layer 3: MaxPooling\n",
    "model.add(MaxPool2D(pool_size=(2, 2), strides=(2, 2)))\n",
    "\n",
    "# Layer 4: Convolutional\n",
    "model.add(Conv2D(filters=128, kernel_size=(3,3), padding='same', activation='relu'))\n",
    "# Layer 5: Convolutional\n",
    "model.add(Conv2D(filters=128, kernel_size=(3,3), padding='same', activation='relu'))\n",
    "# Layer 6: MaxPooling\n",
    "model.add(MaxPool2D(pool_size=(2, 2), strides=(2, 2)))\n",
    "\n",
    "# Layer 7: Convolutional\n",
    "model.add(Conv2D(filters=256, kernel_size=(3,3), padding='same', activation='relu'))\n",
    "# Layer 8: Convolutional\n",
    "model.add(Conv2D(filters=256, kernel_size=(3,3), padding='same', activation='relu'))\n",
    "# Layer 9: Convolutional\n",
    "model.add(Conv2D(filters=256, kernel_size=(3,3), padding='same', activation='relu'))\n",
    "# Layer 10: MaxPooling\n",
    "model.add(MaxPool2D(pool_size=(2, 2), strides=(2, 2)))\n",
    "\n",
    "# # Layer 11: Convolutional\n",
    "# model.add(Conv2D(filters=512, kernel_size=(3,3), padding='same', activation='relu'))\n",
    "# # Layer 12: Convolutional\n",
    "# model.add(Conv2D(filters=512, kernel_size=(3,3), padding='same', activation='relu'))\n",
    "# # Layer 13: Convolutional\n",
    "# model.add(Conv2D(filters=512, kernel_size=(3,3), padding='same', activation='relu'))\n",
    "# # Layer 14: MaxPooling\n",
    "# model.add(MaxPool2D(pool_size=(2, 2), strides=(2, 2)))\n",
    "\n",
    "# # Layer 15: Convolutional\n",
    "# model.add(Conv2D(filters=512, kernel_size=(3,3), padding='same', activation='relu'))\n",
    "# # Layer 16: Convolutional\n",
    "# model.add(Conv2D(filters=512, kernel_size=(3,3), padding='same', activation='relu'))\n",
    "# # Layer 17: Convolutional\n",
    "# model.add(Conv2D(filters=512, kernel_size=(3,3), padding='same', activation='relu'))\n",
    "# # Layer 18: MaxPooling\n",
    "# model.add(MaxPool2D(pool_size=(2, 2), strides=(2, 2)))\n",
    "\n",
    "# Layer 19: Flatten\n",
    "model.add(Flatten())\n",
    "# Layer 20: Fully Connected Layer # standar 4098\n",
    "# model.add(Dense(units=128, activation='relu'))\n",
    "model.add(Dense(units=128, activation='relu'))\n",
    "Dropout(0.4)\n",
    "# Layer 21: Fully Connected Layer\n",
    "# model.add(Dense(units=1024, activation='relu'))\n",
    "# Layer 22: Softmax Layer\n",
    "model.add(Dense(units=36, activation='softmax'))"
   ]
  },
  {
   "cell_type": "code",
   "execution_count": 4,
   "id": "3aab3536",
   "metadata": {
    "execution": {
     "iopub.execute_input": "2022-06-01T11:12:05.635956Z",
     "iopub.status.busy": "2022-06-01T11:12:05.635414Z",
     "iopub.status.idle": "2022-06-01T11:12:05.649362Z",
     "shell.execute_reply": "2022-06-01T11:12:05.648523Z"
    },
    "papermill": {
     "duration": 0.024716,
     "end_time": "2022-06-01T11:12:05.651281",
     "exception": false,
     "start_time": "2022-06-01T11:12:05.626565",
     "status": "completed"
    },
    "tags": []
   },
   "outputs": [],
   "source": [
    "optimizer = Adam()#learning_rate=0.1\n",
    "model.compile(optimizer=optimizer, loss=keras.losses.categorical_crossentropy,\n",
    "              metrics=['accuracy'])"
   ]
  },
  {
   "cell_type": "code",
   "execution_count": 5,
   "id": "5660991e",
   "metadata": {
    "execution": {
     "iopub.execute_input": "2022-06-01T11:12:05.672785Z",
     "iopub.status.busy": "2022-06-01T11:12:05.672449Z",
     "iopub.status.idle": "2022-06-01T11:19:55.705411Z",
     "shell.execute_reply": "2022-06-01T11:19:55.704445Z"
    },
    "papermill": {
     "duration": 470.044782,
     "end_time": "2022-06-01T11:19:55.708135",
     "exception": false,
     "start_time": "2022-06-01T11:12:05.663353",
     "status": "completed"
    },
    "tags": []
   },
   "outputs": [
    {
     "name": "stderr",
     "output_type": "stream",
     "text": [
      "2022-06-01 11:12:11.267972: I tensorflow/compiler/mlir/mlir_graph_optimization_pass.cc:185] None of the MLIR Optimization Passes are enabled (registered 2)\n"
     ]
    },
    {
     "name": "stdout",
     "output_type": "stream",
     "text": [
      "Epoch 1/2\n"
     ]
    },
    {
     "name": "stderr",
     "output_type": "stream",
     "text": [
      "/opt/conda/lib/python3.7/site-packages/PIL/Image.py:993: UserWarning: Palette images with Transparency expressed in bytes should be converted to RGBA images\n",
      "  \"Palette images with Transparency expressed in bytes should be \"\n",
      "2022-06-01 11:12:18.253447: I tensorflow/stream_executor/cuda/cuda_dnn.cc:369] Loaded cuDNN version 8005\n"
     ]
    },
    {
     "name": "stdout",
     "output_type": "stream",
     "text": [
      "32/32 [==============================] - 214s 6s/step - loss: 3.6019 - accuracy: 0.0250 - val_loss: 3.5818 - val_accuracy: 0.0285\n",
      "Epoch 2/2\n",
      "32/32 [==============================] - 145s 5s/step - loss: 3.5318 - accuracy: 0.0392 - val_loss: 3.3275 - val_accuracy: 0.0769\n"
     ]
    }
   ],
   "source": [
    "histvgg16 = model.fit(traindata, validation_data=validdata,epochs=2)"
   ]
  },
  {
   "cell_type": "code",
   "execution_count": 6,
   "id": "e091b0c8",
   "metadata": {
    "execution": {
     "iopub.execute_input": "2022-06-01T11:19:55.733838Z",
     "iopub.status.busy": "2022-06-01T11:19:55.733131Z",
     "iopub.status.idle": "2022-06-01T11:19:56.113902Z",
     "shell.execute_reply": "2022-06-01T11:19:56.113076Z"
    },
    "papermill": {
     "duration": 0.395283,
     "end_time": "2022-06-01T11:19:56.115774",
     "exception": false,
     "start_time": "2022-06-01T11:19:55.720491",
     "status": "completed"
    },
    "tags": []
   },
   "outputs": [
    {
     "data": {
      "image/png": "[encoded data removed]",
      "text/plain": [
       "<Figure size 432x288 with 1 Axes>"
      ]
     },
     "metadata": {
      "needs_background": "light"
     },
     "output_type": "display_data"
    },
    {
     "data": {
      "image/png": "[encoded data removed]",
      "text/plain": [
       "<Figure size 432x288 with 1 Axes>"
      ]
     },
     "metadata": {
      "needs_background": "light"
     },
     "output_type": "display_data"
    }
   ],
   "source": [
    "plt.plot(histvgg16.history['accuracy'])\n",
    "plt.plot(histvgg16.history['val_accuracy'])\n",
    "plt.title('VGG16 Model Accuracy')\n",
    "plt.ylabel('accuracy')\n",
    "plt.xlabel('epoch')\n",
    "plt.legend(['train', 'validation'], loc='upper left')\n",
    "plt.show()\n",
    "# summarize history for loss\n",
    "plt.plot(histvgg16.history['loss'])\n",
    "plt.plot(histvgg16.history['val_loss'])\n",
    "plt.title('VGG16 Model Loss')\n",
    "plt.ylabel('loss')\n",
    "plt.xlabel('epoch')\n",
    "plt.legend(['train', 'validation'], loc='upper left')\n",
    "plt.show()"
   ]
  },
  {
   "cell_type": "code",
   "execution_count": 7,
   "id": "e0283744",
   "metadata": {
    "execution": {
     "iopub.execute_input": "2022-06-01T11:19:56.142151Z",
     "iopub.status.busy": "2022-06-01T11:19:56.141853Z",
     "iopub.status.idle": "2022-06-01T11:20:26.749995Z",
     "shell.execute_reply": "2022-06-01T11:20:26.749168Z"
    },
    "papermill": {
     "duration": 30.634994,
     "end_time": "2022-06-01T11:20:26.763338",
     "exception": false,
     "start_time": "2022-06-01T11:19:56.128344",
     "status": "completed"
    },
    "tags": []
   },
   "outputs": [
    {
     "data": {
      "text/plain": [
       "0.07520891726016998"
      ]
     },
     "execution_count": 7,
     "metadata": {},
     "output_type": "execute_result"
    }
   ],
   "source": [
    "_, test_acc = model.evaluate(testdata, verbose=0)\n",
    "test_acc"
   ]
  },
  {
   "cell_type": "code",
   "execution_count": 8,
   "id": "4cbccb6e",
   "metadata": {
    "execution": {
     "iopub.execute_input": "2022-06-01T11:20:26.789655Z",
     "iopub.status.busy": "2022-06-01T11:20:26.788738Z",
     "iopub.status.idle": "2022-06-01T11:20:26.792931Z",
     "shell.execute_reply": "2022-06-01T11:20:26.792254Z"
    },
    "papermill": {
     "duration": 0.019157,
     "end_time": "2022-06-01T11:20:26.794745",
     "exception": false,
     "start_time": "2022-06-01T11:20:26.775588",
     "status": "completed"
    },
    "tags": []
   },
   "outputs": [],
   "source": [
    "# model.save(\"vgg16.h5\")\n",
    "# model.save_weights(\"weights\")"
   ]
  },
  {
   "cell_type": "markdown",
   "id": "704f96be",
   "metadata": {
    "papermill": {
     "duration": 0.013004,
     "end_time": "2022-06-01T11:20:26.819539",
     "exception": false,
     "start_time": "2022-06-01T11:20:26.806535",
     "status": "completed"
    },
    "tags": []
   },
   "source": [
    "# ALEXNET"
   ]
  },
  {
   "cell_type": "code",
   "execution_count": 9,
   "id": "edd32d6d",
   "metadata": {
    "execution": {
     "iopub.execute_input": "2022-06-01T11:20:26.846377Z",
     "iopub.status.busy": "2022-06-01T11:20:26.845790Z",
     "iopub.status.idle": "2022-06-01T11:20:26.850944Z",
     "shell.execute_reply": "2022-06-01T11:20:26.850140Z"
    },
    "papermill": {
     "duration": 0.020241,
     "end_time": "2022-06-01T11:20:26.852835",
     "exception": false,
     "start_time": "2022-06-01T11:20:26.832594",
     "status": "completed"
    },
    "tags": []
   },
   "outputs": [],
   "source": [
    "\n",
    "import argparse\n",
    "# Import necessary components to build LeNet\n",
    "from keras.models import Sequential\n",
    "from keras.layers.core import Dense, Dropout, Activation, Flatten\n",
    "from keras.layers.convolutional import Conv2D, MaxPooling2D, ZeroPadding2D\n",
    "# from keras.layers.normalization import BatchNormalization\n",
    "from tensorflow.keras.layers import BatchNormalization\n",
    "from keras.regularizers import l2"
   ]
  },
  {
   "cell_type": "code",
   "execution_count": 10,
   "id": "7fb760f1",
   "metadata": {
    "execution": {
     "iopub.execute_input": "2022-06-01T11:20:26.878427Z",
     "iopub.status.busy": "2022-06-01T11:20:26.878065Z",
     "iopub.status.idle": "2022-06-01T11:20:26.892823Z",
     "shell.execute_reply": "2022-06-01T11:20:26.891807Z"
    },
    "papermill": {
     "duration": 0.030556,
     "end_time": "2022-06-01T11:20:26.895303",
     "exception": false,
     "start_time": "2022-06-01T11:20:26.864747",
     "status": "completed"
    },
    "tags": []
   },
   "outputs": [],
   "source": [
    "IMGSIZE= 100\n",
    "def alexnet_model(img_shape=(IMGSIZE, IMGSIZE, 3), n_classes=36, l2_reg=0.,\n",
    "    weights=None):\n",
    "\n",
    "    # Initialize model\n",
    "    alexnet = Sequential()\n",
    "\n",
    "    # Layer 1\n",
    "    alexnet.add(Conv2D(96, (11, 11), input_shape=img_shape,\n",
    "    padding='same', kernel_regularizer=l2(l2_reg)))\n",
    "    alexnet.add(BatchNormalization())\n",
    "    alexnet.add(Activation('relu'))\n",
    "    alexnet.add(MaxPooling2D(pool_size=(2, 2)))\n",
    "\n",
    "    # Layer 2\n",
    "    alexnet.add(Conv2D(256, (5, 5), padding='same'))\n",
    "    alexnet.add(BatchNormalization())\n",
    "    alexnet.add(Activation('relu'))\n",
    "    alexnet.add(MaxPooling2D(pool_size=(2, 2)))\n",
    "\n",
    "    # Layer 3\n",
    "    alexnet.add(ZeroPadding2D((1, 1)))\n",
    "    alexnet.add(Conv2D(512, (3, 3), padding='same'))\n",
    "    alexnet.add(BatchNormalization())\n",
    "    alexnet.add(Activation('relu'))\n",
    "    alexnet.add(MaxPooling2D(pool_size=(2, 2)))\n",
    "\n",
    "    # Layer 4\n",
    "    alexnet.add(ZeroPadding2D((1, 1)))\n",
    "    alexnet.add(Conv2D(1024, (3, 3), padding='same'))\n",
    "    alexnet.add(BatchNormalization())\n",
    "    alexnet.add(Activation('relu'))\n",
    "\n",
    "    # Layer 5\n",
    "    alexnet.add(ZeroPadding2D((1, 1)))\n",
    "    alexnet.add(Conv2D(1024, (3, 3), padding='same'))\n",
    "    alexnet.add(BatchNormalization())\n",
    "    alexnet.add(Activation('relu'))\n",
    "    alexnet.add(MaxPooling2D(pool_size=(2, 2)))\n",
    "\n",
    "    # Layer 6\n",
    "    alexnet.add(Flatten())\n",
    "    alexnet.add(Dense(3072))\n",
    "    alexnet.add(BatchNormalization())\n",
    "    alexnet.add(Activation('relu'))\n",
    "    alexnet.add(Dropout(0.5))\n",
    "\n",
    "    # Layer 7\n",
    "    alexnet.add(Dense(4096))\n",
    "    alexnet.add(BatchNormalization())\n",
    "    alexnet.add(Activation('relu'))\n",
    "    alexnet.add(Dropout(0.5))\n",
    "\n",
    "    # Layer 8\n",
    "    alexnet.add(Dense(n_classes))\n",
    "    alexnet.add(BatchNormalization())\n",
    "    alexnet.add(Activation('softmax'))\n",
    "\n",
    "#     if weights is not None:\n",
    "#     alexnet.load_weights(weights)\n",
    "\n",
    "    return alexnet"
   ]
  },
  {
   "cell_type": "code",
   "execution_count": 11,
   "id": "c8ac633f",
   "metadata": {
    "execution": {
     "iopub.execute_input": "2022-06-01T11:20:26.921306Z",
     "iopub.status.busy": "2022-06-01T11:20:26.920952Z",
     "iopub.status.idle": "2022-06-01T11:20:27.121501Z",
     "shell.execute_reply": "2022-06-01T11:20:27.120605Z"
    },
    "papermill": {
     "duration": 0.215888,
     "end_time": "2022-06-01T11:20:27.123679",
     "exception": false,
     "start_time": "2022-06-01T11:20:26.907791",
     "status": "completed"
    },
    "tags": []
   },
   "outputs": [],
   "source": [
    "alexnet = alexnet_model()"
   ]
  },
  {
   "cell_type": "code",
   "execution_count": 12,
   "id": "fe361eea",
   "metadata": {
    "execution": {
     "iopub.execute_input": "2022-06-01T11:20:27.151814Z",
     "iopub.status.busy": "2022-06-01T11:20:27.151453Z",
     "iopub.status.idle": "2022-06-01T11:20:27.162724Z",
     "shell.execute_reply": "2022-06-01T11:20:27.161903Z"
    },
    "papermill": {
     "duration": 0.028348,
     "end_time": "2022-06-01T11:20:27.164834",
     "exception": false,
     "start_time": "2022-06-01T11:20:27.136486",
     "status": "completed"
    },
    "tags": []
   },
   "outputs": [],
   "source": [
    "optimizer = Adam()#learning_rate=0.001\n",
    "alexnet.compile(optimizer=optimizer, loss=keras.losses.categorical_crossentropy,\n",
    "              metrics=['accuracy'])\n"
   ]
  },
  {
   "cell_type": "code",
   "execution_count": 13,
   "id": "45b3ce31",
   "metadata": {
    "execution": {
     "iopub.execute_input": "2022-06-01T11:20:27.192401Z",
     "iopub.status.busy": "2022-06-01T11:20:27.191718Z",
     "iopub.status.idle": "2022-06-01T12:25:49.542994Z",
     "shell.execute_reply": "2022-06-01T12:25:49.541296Z"
    },
    "papermill": {
     "duration": 3922.51763,
     "end_time": "2022-06-01T12:25:49.695684",
     "exception": false,
     "start_time": "2022-06-01T11:20:27.178054",
     "status": "completed"
    },
    "tags": []
   },
   "outputs": [
    {
     "name": "stdout",
     "output_type": "stream",
     "text": [
      "Epoch 1/25\n",
      "32/32 [==============================] - 147s 4s/step - loss: 2.9567 - accuracy: 0.1708 - val_loss: 58.4016 - val_accuracy: 0.0399\n",
      "Epoch 2/25\n",
      "32/32 [==============================] - 144s 5s/step - loss: 2.4211 - accuracy: 0.3265 - val_loss: 10.0437 - val_accuracy: 0.0826\n",
      "Epoch 3/25\n",
      "32/32 [==============================] - 141s 4s/step - loss: 2.2142 - accuracy: 0.3823 - val_loss: 4.5953 - val_accuracy: 0.1481\n",
      "Epoch 4/25\n",
      "32/32 [==============================] - 140s 4s/step - loss: 2.0532 - accuracy: 0.4286 - val_loss: 3.3004 - val_accuracy: 0.2165\n",
      "Epoch 5/25\n",
      "32/32 [==============================] - 139s 4s/step - loss: 1.9008 - accuracy: 0.4812 - val_loss: 3.0711 - val_accuracy: 0.2849\n",
      "Epoch 6/25\n",
      "32/32 [==============================] - 140s 4s/step - loss: 1.7676 - accuracy: 0.5265 - val_loss: 2.0978 - val_accuracy: 0.4387\n",
      "Epoch 7/25\n",
      "32/32 [==============================] - 141s 4s/step - loss: 1.5874 - accuracy: 0.5820 - val_loss: 2.0119 - val_accuracy: 0.4387\n",
      "Epoch 8/25\n",
      "32/32 [==============================] - 141s 4s/step - loss: 1.4308 - accuracy: 0.6360 - val_loss: 1.6820 - val_accuracy: 0.5214\n",
      "Epoch 9/25\n",
      "32/32 [==============================] - 142s 4s/step - loss: 1.2561 - accuracy: 0.6905 - val_loss: 1.8286 - val_accuracy: 0.5100\n",
      "Epoch 10/25\n",
      "32/32 [==============================] - 147s 5s/step - loss: 1.1065 - accuracy: 0.7464 - val_loss: 1.2503 - val_accuracy: 0.7037\n",
      "Epoch 11/25\n",
      "32/32 [==============================] - 146s 5s/step - loss: 0.8866 - accuracy: 0.8250 - val_loss: 1.1697 - val_accuracy: 0.7464\n",
      "Epoch 12/25\n",
      "32/32 [==============================] - 148s 5s/step - loss: 0.7081 - accuracy: 0.8787 - val_loss: 0.9751 - val_accuracy: 0.8234\n",
      "Epoch 13/25\n",
      "32/32 [==============================] - 150s 5s/step - loss: 0.5693 - accuracy: 0.9152 - val_loss: 0.9990 - val_accuracy: 0.8234\n",
      "Epoch 14/25\n",
      "32/32 [==============================] - 148s 5s/step - loss: 0.4669 - accuracy: 0.9409 - val_loss: 0.9035 - val_accuracy: 0.8177\n",
      "Epoch 15/25\n",
      "32/32 [==============================] - 149s 5s/step - loss: 0.4168 - accuracy: 0.9522 - val_loss: 0.5208 - val_accuracy: 0.9516\n",
      "Epoch 16/25\n",
      "32/32 [==============================] - 149s 5s/step - loss: 0.3364 - accuracy: 0.9676 - val_loss: 1.0683 - val_accuracy: 0.7778\n",
      "Epoch 17/25\n",
      "32/32 [==============================] - 149s 5s/step - loss: 0.3033 - accuracy: 0.9737 - val_loss: 0.4512 - val_accuracy: 0.9402\n",
      "Epoch 18/25\n",
      "32/32 [==============================] - 149s 5s/step - loss: 0.3014 - accuracy: 0.9689 - val_loss: 0.4294 - val_accuracy: 0.9544\n",
      "Epoch 19/25\n",
      "32/32 [==============================] - 148s 5s/step - loss: 0.2577 - accuracy: 0.9795 - val_loss: 0.4352 - val_accuracy: 0.9459\n",
      "Epoch 20/25\n",
      "32/32 [==============================] - 148s 5s/step - loss: 0.2481 - accuracy: 0.9759 - val_loss: 0.3593 - val_accuracy: 0.9601\n",
      "Epoch 21/25\n",
      "32/32 [==============================] - 147s 5s/step - loss: 0.2370 - accuracy: 0.9766 - val_loss: 0.2458 - val_accuracy: 0.9630\n",
      "Epoch 22/25\n",
      "32/32 [==============================] - 147s 5s/step - loss: 0.2156 - accuracy: 0.9830 - val_loss: 0.2493 - val_accuracy: 0.9573\n",
      "Epoch 23/25\n",
      "32/32 [==============================] - 146s 5s/step - loss: 0.2383 - accuracy: 0.9769 - val_loss: 0.3766 - val_accuracy: 0.9402\n",
      "Epoch 24/25\n",
      "32/32 [==============================] - 149s 5s/step - loss: 0.1964 - accuracy: 0.9811 - val_loss: 0.2439 - val_accuracy: 0.9544\n",
      "Epoch 25/25\n",
      "32/32 [==============================] - 148s 5s/step - loss: 0.1938 - accuracy: 0.9856 - val_loss: 0.3076 - val_accuracy: 0.9487\n"
     ]
    }
   ],
   "source": [
    "alexnethistory = alexnet.fit(traindata,epochs=25,validation_data=validdata)"
   ]
  },
  {
   "cell_type": "code",
   "execution_count": 14,
   "id": "5146addb",
   "metadata": {
    "execution": {
     "iopub.execute_input": "2022-06-01T12:25:50.060277Z",
     "iopub.status.busy": "2022-06-01T12:25:50.059673Z",
     "iopub.status.idle": "2022-06-01T12:25:50.831752Z",
     "shell.execute_reply": "2022-06-01T12:25:50.830827Z"
    },
    "papermill": {
     "duration": 0.990541,
     "end_time": "2022-06-01T12:25:50.833926",
     "exception": false,
     "start_time": "2022-06-01T12:25:49.843385",
     "status": "completed"
    },
    "tags": []
   },
   "outputs": [
    {
     "data": {
      "image/png": "[encoded data removed]",
      "text/plain": [
       "<Figure size 432x288 with 1 Axes>"
      ]
     },
     "metadata": {
      "needs_background": "light"
     },
     "output_type": "display_data"
    },
    {
     "data": {
      "image/png": "[encoded data removed]",
      "text/plain": [
       "<Figure size 432x288 with 1 Axes>"
      ]
     },
     "metadata": {
      "needs_background": "light"
     },
     "output_type": "display_data"
    }
   ],
   "source": [
    "plt.plot(alexnethistory.history['accuracy'])\n",
    "plt.plot(alexnethistory.history['val_accuracy'])\n",
    "plt.title('Alexnet Model Accuracy')\n",
    "plt.ylabel('accuracy')\n",
    "plt.xlabel('epoch')\n",
    "plt.legend(['train', 'validation'], loc='upper left')\n",
    "plt.show()\n",
    "# summarize history for loss\n",
    "plt.plot(alexnethistory.history['loss'])\n",
    "plt.plot(alexnethistory.history['val_loss'])\n",
    "plt.title('Alexnet Model Loss')\n",
    "plt.ylabel('loss')\n",
    "plt.xlabel('epoch')\n",
    "plt.legend(['train', 'validation'], loc='upper left')\n",
    "plt.show()"
   ]
  },
  {
   "cell_type": "code",
   "execution_count": 15,
   "id": "512ae908",
   "metadata": {
    "execution": {
     "iopub.execute_input": "2022-06-01T12:25:50.968797Z",
     "iopub.status.busy": "2022-06-01T12:25:50.968091Z",
     "iopub.status.idle": "2022-06-01T12:26:12.584853Z",
     "shell.execute_reply": "2022-06-01T12:26:12.584035Z"
    },
    "papermill": {
     "duration": 21.686807,
     "end_time": "2022-06-01T12:26:12.586782",
     "exception": false,
     "start_time": "2022-06-01T12:25:50.899975",
     "status": "completed"
    },
    "tags": []
   },
   "outputs": [
    {
     "data": {
      "text/plain": [
       "0.9498607516288757"
      ]
     },
     "execution_count": 15,
     "metadata": {},
     "output_type": "execute_result"
    }
   ],
   "source": [
    "_, test_acc = alexnet.evaluate(testdata, verbose=0)\n",
    "test_acc"
   ]
  },
  {
   "cell_type": "code",
   "execution_count": 16,
   "id": "0e0f9e9c",
   "metadata": {
    "execution": {
     "iopub.execute_input": "2022-06-01T12:26:12.719985Z",
     "iopub.status.busy": "2022-06-01T12:26:12.719327Z",
     "iopub.status.idle": "2022-06-01T12:26:12.723120Z",
     "shell.execute_reply": "2022-06-01T12:26:12.722293Z"
    },
    "papermill": {
     "duration": 0.072945,
     "end_time": "2022-06-01T12:26:12.725132",
     "exception": false,
     "start_time": "2022-06-01T12:26:12.652187",
     "status": "completed"
    },
    "tags": []
   },
   "outputs": [],
   "source": [
    "# alexnet.save(\"alexnet.h5\")\n",
    "# alexnet.save_weights(\"alexnetfolder/alexnet_weight\")"
   ]
  },
  {
   "cell_type": "code",
   "execution_count": null,
   "id": "f08f84cf",
   "metadata": {
    "papermill": {
     "duration": 0.065011,
     "end_time": "2022-06-01T12:26:12.855334",
     "exception": false,
     "start_time": "2022-06-01T12:26:12.790323",
     "status": "completed"
    },
    "tags": []
   },
   "outputs": [],
   "source": []
  },
  {
   "cell_type": "code",
   "execution_count": null,
   "id": "94a65757",
   "metadata": {
    "papermill": {
     "duration": 0.065653,
     "end_time": "2022-06-01T12:26:12.986814",
     "exception": false,
     "start_time": "2022-06-01T12:26:12.921161",
     "status": "completed"
    },
    "tags": []
   },
   "outputs": [],
   "source": []
  },
  {
   "cell_type": "code",
   "execution_count": null,
   "id": "153043ce",
   "metadata": {
    "papermill": {
     "duration": 0.064919,
     "end_time": "2022-06-01T12:26:13.115973",
     "exception": false,
     "start_time": "2022-06-01T12:26:13.051054",
     "status": "completed"
    },
    "tags": []
   },
   "outputs": [],
   "source": []
  },
  {
   "cell_type": "code",
   "execution_count": null,
   "id": "5587a6b1",
   "metadata": {
    "papermill": {
     "duration": 0.064554,
     "end_time": "2022-06-01T12:26:13.244196",
     "exception": false,
     "start_time": "2022-06-01T12:26:13.179642",
     "status": "completed"
    },
    "tags": []
   },
   "outputs": [],
   "source": []
  },
  {
   "cell_type": "code",
   "execution_count": null,
   "id": "d1313c07",
   "metadata": {
    "execution": {
     "iopub.execute_input": "2022-05-30T17:00:04.189821Z",
     "iopub.status.busy": "2022-05-30T17:00:04.189455Z",
     "iopub.status.idle": "2022-05-30T17:00:04.280573Z",
     "shell.execute_reply": "2022-05-30T17:00:04.279799Z",
     "shell.execute_reply.started": "2022-05-30T17:00:04.189793Z"
    },
    "papermill": {
     "duration": 0.06364,
     "end_time": "2022-06-01T12:26:13.430537",
     "exception": false,
     "start_time": "2022-06-01T12:26:13.366897",
     "status": "completed"
    },
    "tags": []
   },
   "outputs": [],
   "source": []
  },
  {
   "cell_type": "code",
   "execution_count": null,
   "id": "72e8aaf0",
   "metadata": {
    "execution": {
     "iopub.execute_input": "2022-05-30T17:00:33.177423Z",
     "iopub.status.busy": "2022-05-30T17:00:33.177077Z",
     "iopub.status.idle": "2022-05-30T17:00:33.246865Z",
     "shell.execute_reply": "2022-05-30T17:00:33.246102Z",
     "shell.execute_reply.started": "2022-05-30T17:00:33.177394Z"
    },
    "papermill": {
     "duration": 0.065141,
     "end_time": "2022-06-01T12:26:13.561760",
     "exception": false,
     "start_time": "2022-06-01T12:26:13.496619",
     "status": "completed"
    },
    "tags": []
   },
   "outputs": [],
   "source": []
  },
  {
   "cell_type": "code",
   "execution_count": null,
   "id": "4a2f4323",
   "metadata": {
    "papermill": {
     "duration": 0.066921,
     "end_time": "2022-06-01T12:26:13.693508",
     "exception": false,
     "start_time": "2022-06-01T12:26:13.626587",
     "status": "completed"
    },
    "tags": []
   },
   "outputs": [],
   "source": []
  },
  {
   "cell_type": "code",
   "execution_count": null,
   "id": "e034c1af",
   "metadata": {
    "papermill": {
     "duration": 0.065702,
     "end_time": "2022-06-01T12:26:13.824819",
     "exception": false,
     "start_time": "2022-06-01T12:26:13.759117",
     "status": "completed"
    },
    "tags": []
   },
   "outputs": [],
   "source": []
  },
  {
   "cell_type": "code",
   "execution_count": null,
   "id": "62b8e43e",
   "metadata": {
    "execution": {
     "iopub.execute_input": "2022-05-30T16:43:54.461472Z",
     "iopub.status.busy": "2022-05-30T16:43:54.460855Z",
     "iopub.status.idle": "2022-05-30T16:43:54.467034Z",
     "shell.execute_reply": "2022-05-30T16:43:54.466225Z",
     "shell.execute_reply.started": "2022-05-30T16:43:54.461442Z"
    },
    "papermill": {
     "duration": 0.06597,
     "end_time": "2022-06-01T12:26:13.956892",
     "exception": false,
     "start_time": "2022-06-01T12:26:13.890922",
     "status": "completed"
    },
    "tags": []
   },
   "outputs": [],
   "source": []
  },
  {
   "cell_type": "code",
   "execution_count": null,
   "id": "6cbcf299",
   "metadata": {
    "execution": {
     "iopub.execute_input": "2022-05-30T16:43:16.587026Z",
     "iopub.status.busy": "2022-05-30T16:43:16.58666Z",
     "iopub.status.idle": "2022-05-30T16:43:16.59227Z",
     "shell.execute_reply": "2022-05-30T16:43:16.591453Z",
     "shell.execute_reply.started": "2022-05-30T16:43:16.586997Z"
    },
    "papermill": {
     "duration": 0.065173,
     "end_time": "2022-06-01T12:26:14.090308",
     "exception": false,
     "start_time": "2022-06-01T12:26:14.025135",
     "status": "completed"
    },
    "tags": []
   },
   "outputs": [],
   "source": []
  },
  {
   "cell_type": "code",
   "execution_count": null,
   "id": "f742ac29",
   "metadata": {
    "execution": {
     "iopub.execute_input": "2022-05-30T16:15:41.515087Z",
     "iopub.status.busy": "2022-05-30T16:15:41.513703Z",
     "iopub.status.idle": "2022-05-30T16:15:41.527145Z",
     "shell.execute_reply": "2022-05-30T16:15:41.525508Z",
     "shell.execute_reply.started": "2022-05-30T16:15:41.514997Z"
    },
    "papermill": {
     "duration": 0.06451,
     "end_time": "2022-06-01T12:26:14.219966",
     "exception": false,
     "start_time": "2022-06-01T12:26:14.155456",
     "status": "completed"
    },
    "tags": []
   },
   "outputs": [],
   "source": []
  },
  {
   "cell_type": "code",
   "execution_count": null,
   "id": "820bded8",
   "metadata": {
    "papermill": {
     "duration": 0.065522,
     "end_time": "2022-06-01T12:26:14.351394",
     "exception": false,
     "start_time": "2022-06-01T12:26:14.285872",
     "status": "completed"
    },
    "tags": []
   },
   "outputs": [],
   "source": []
  },
  {
   "cell_type": "code",
   "execution_count": 17,
   "id": "7cc6ff1b",
   "metadata": {
    "execution": {
     "iopub.execute_input": "2022-06-01T12:26:14.488164Z",
     "iopub.status.busy": "2022-06-01T12:26:14.487477Z",
     "iopub.status.idle": "2022-06-01T12:26:14.491479Z",
     "shell.execute_reply": "2022-06-01T12:26:14.490666Z"
    },
    "papermill": {
     "duration": 0.075864,
     "end_time": "2022-06-01T12:26:14.493443",
     "exception": false,
     "start_time": "2022-06-01T12:26:14.417579",
     "status": "completed"
    },
    "tags": []
   },
   "outputs": [],
   "source": [
    "# from PIL import Image\n",
    "# image = Image.open(yol)\n",
    "# newimg = image.resize((100,100))\n",
    "# newimg2 = np.array(newimg)\n",
    "# type(newimg2)"
   ]
  },
  {
   "cell_type": "code",
   "execution_count": 18,
   "id": "34b3b54a",
   "metadata": {
    "execution": {
     "iopub.execute_input": "2022-06-01T12:26:14.645878Z",
     "iopub.status.busy": "2022-06-01T12:26:14.645513Z",
     "iopub.status.idle": "2022-06-01T12:26:14.649558Z",
     "shell.execute_reply": "2022-06-01T12:26:14.648719Z"
    },
    "papermill": {
     "duration": 0.078759,
     "end_time": "2022-06-01T12:26:14.651368",
     "exception": false,
     "start_time": "2022-06-01T12:26:14.572609",
     "status": "completed"
    },
    "tags": []
   },
   "outputs": [],
   "source": [
    "# import cv2\n",
    "\n",
    "# yol = \"../input/fruit-and-vegetable-image-recognition/test/apple/Image_1.jpg\"\n",
    "# resim = cv2.imread(yol)\n",
    "# resim = cv2.resize(resim,[100,100])\n",
    "# print(resim.shape)\n",
    "# pred = alexnet.predict(resim)"
   ]
  }
 ],
 "metadata": {
  "kernelspec": {
   "display_name": "Python 3",
   "language": "python",
   "name": "python3"
  },
  "language_info": {
   "codemirror_mode": {
    "name": "ipython",
    "version": 3
   },
   "file_extension": ".py",
   "mimetype": "text/x-python",
   "name": "python",
   "nbconvert_exporter": "python",
   "pygments_lexer": "ipython3",
   "version": "3.7.12"
  },
  "papermill": {
   "default_parameters": {},
   "duration": 4471.17262,
   "end_time": "2022-06-01T12:26:18.110329",
   "environment_variables": {},
   "exception": null,
   "input_path": "__notebook__.ipynb",
   "output_path": "__notebook__.ipynb",
   "parameters": {},
   "start_time": "2022-06-01T11:11:46.937709",
   "version": "2.3.4"
  }
 },
 "nbformat": 4,
 "nbformat_minor": 5
}
